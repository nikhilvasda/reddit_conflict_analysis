{
 "cells": [
  {
   "cell_type": "markdown",
   "metadata": {
    "colab_type": "text",
    "id": "xN_B1rNxAoTw"
   },
   "source": [
    "# Importing Modules"
   ]
  },
  {
   "cell_type": "code",
   "execution_count": 1,
   "metadata": {
    "colab": {},
    "colab_type": "code",
    "id": "6mDoo5Q_7CP5"
   },
   "outputs": [],
   "source": [
    "import pandas as pd\n",
    "from pandas import DataFrame\n",
    "import requests\n",
    "from requests.exceptions import Timeout\n",
    "import json\n",
    "import time\n",
    "import os\n",
    "import pickle\n",
    "\n",
    "from ratelimiter import RateLimiter"
   ]
  },
  {
   "cell_type": "markdown",
   "metadata": {
    "colab_type": "text",
    "id": "Df6Z24GJspFQ"
   },
   "source": [
    "# DATA COLLECTION"
   ]
  },
  {
   "cell_type": "code",
   "execution_count": 2,
   "metadata": {
    "colab": {
     "base_uri": "https://localhost:8080/",
     "height": 134
    },
    "colab_type": "code",
    "executionInfo": {
     "elapsed": 1510,
     "status": "ok",
     "timestamp": 1586465848437,
     "user": {
      "displayName": "Ravi Teja Sunkara",
      "photoUrl": "https://lh3.googleusercontent.com/a-/AOh14GhIDRxEp0jUm7-bEHjNr468mUwBCD_4vTDGzQ1n=s64",
      "userId": "04754153754492146049"
     },
     "user_tz": 240
    },
    "id": "MRLI5Nc9zm1k",
    "outputId": "63a0ffd2-8cc2-427b-b3f0-f9f0df0d1135"
   },
   "outputs": [
    {
     "name": "stdout",
     "output_type": "stream",
     "text": [
      "Total Number of ids:  116426\n",
      "        0\n",
      "0  2m9g6k\n",
      "1  3b5gc8\n",
      "2  1vm334\n",
      "3  5nwxsb\n",
      "4  3f3qr7\n"
     ]
    }
   ],
   "source": [
    "ids = pd.read_csv('data/full_ids.txt', delimiter='\\n', header=None)\n",
    "ids_list = ids[0].values.tolist()\n",
    "print(\"Total Number of ids: \", len(ids_list))\n",
    "print(ids.head(5))"
   ]
  },
  {
   "cell_type": "code",
   "execution_count": 3,
   "metadata": {
    "colab": {
     "base_uri": "https://localhost:8080/",
     "height": 118
    },
    "colab_type": "code",
    "executionInfo": {
     "elapsed": 399,
     "status": "ok",
     "timestamp": 1586465851246,
     "user": {
      "displayName": "Ravi Teja Sunkara",
      "photoUrl": "https://lh3.googleusercontent.com/a-/AOh14GhIDRxEp0jUm7-bEHjNr468mUwBCD_4vTDGzQ1n=s64",
      "userId": "04754153754492146049"
     },
     "user_tz": 240
    },
    "id": "733MElr59Ztf",
    "outputId": "1629139e-142b-4143-9a20-67fcf8842015"
   },
   "outputs": [
    {
     "name": "stdout",
     "output_type": "stream",
     "text": [
      "2m9g6k\n",
      "3b5gc8\n",
      "1vm334\n",
      "5nwxsb\n",
      "3f3qr7\n",
      "23m3im\n"
     ]
    }
   ],
   "source": [
    "temp_ids = ids.loc[:5, :]\n",
    "temp_ids_list = temp_ids[0].values.tolist()\n",
    "temp_ids_list\n",
    "for id in temp_ids_list:\n",
    "    print(id)"
   ]
  },
  {
   "cell_type": "markdown",
   "metadata": {
    "colab_type": "text",
    "id": "gsS0oV1mASwZ"
   },
   "source": [
    "### Fetching the Data"
   ]
  },
  {
   "cell_type": "markdown",
   "metadata": {
    "colab_type": "text",
    "id": "MC2eJ1C_ycvU"
   },
   "source": [
    "I am using both the end points. We are able to retreive comments using the id from comments end point **if and only if** the post has \"comments\". If the post doesn't have any comments, the comment end point is not returning any data even though the post exists. So, to just get the post, when there are no comments for the given post, I am switching to submission end point."
   ]
  },
  {
   "cell_type": "code",
   "execution_count": 2,
   "metadata": {
    "colab": {},
    "colab_type": "code",
    "id": "3TROdk36EqTc"
   },
   "outputs": [],
   "source": [
    "def fetchdata(submission_id):\n",
    "    # parameters for the comment endpoint query\n",
    "    parms_comments = {\n",
    "    'sort_type': 'created_utc',\n",
    "    'sort': 'asc',\n",
    "    'limit': 30000,\n",
    "    'aggs': 'link_id',\n",
    "    'link_id': submission_id\n",
    "    }\n",
    "\n",
    "    # parameters for the submission endpoint query\n",
    "    parms_submission = {\n",
    "        'sort_type': 'created_utc',\n",
    "        'sort': 'asc',\n",
    "        'size': 500, \n",
    "        'ids': submission_id \n",
    "    }\n",
    "\n",
    "    # === COMMENTS END POINT === #\n",
    "    try:\n",
    "        service_url = 'https://api.pushshift.io/reddit/search/comment/?'\n",
    "        response = requests.get(service_url, \n",
    "                                params = parms_comments, \n",
    "                                timeout = 30) \n",
    "    except Timeout:\n",
    "        print(\"The request Time Out\", submission_id)\n",
    "\n",
    "    # checking the status code\n",
    "    if response.status_code == 200 and len(response.text) > 100:\n",
    "        try:\n",
    "            js = json.loads(response.text)\n",
    "            comments_data = js['data'] #list\n",
    "            user_post_data = js['aggs']['link_id'][0]['data']\n",
    "            comments_data = [user_post_data] + comments_data\n",
    "            data = comments_data\n",
    "        \n",
    "        except (KeyError, IndexError):\n",
    "            js = json.loads(response.text)\n",
    "            comments_data = js['data'] # key&Index error because no post but only comments so can't access 'aggs'\n",
    "            data = comments_data\n",
    "\n",
    "    elif response.status_code == 429:\n",
    "        print(\"Status code is: {} and the Length of Text is: {}\".format(response.status_code, len(response.text)))\n",
    "        return data\n",
    "\n",
    "        # === SUBMISSION END POINT === #\n",
    "    else:\n",
    "        service_url = 'https://api.pushshift.io/reddit/search/submission/?'\n",
    "        try:\n",
    "            response = requests.get(service_url,\n",
    "                                    params = parms_submission,\n",
    "                                    timeout = 30)\n",
    "        except Timeout:\n",
    "                print(\"The request Time Out\", submission_id)\n",
    "\n",
    "    # checking the status code\n",
    "        if response.status_code == 200 and len(response.text) > 100:\n",
    "            try:\n",
    "                js = json.loads(response.text)\n",
    "                data = js['data']\n",
    "            except:\n",
    "                js = None\n",
    "        \n",
    "        elif response.status_code == 429:\n",
    "            print(\"Status code is: {} and the Length of Text is: {}\".format(response.status_code, len(response.text)))\n",
    "            return data\n",
    "        \n",
    "        elif response.status_code == 200 and len(response.text) < 20:\n",
    "            return None\n",
    "        \n",
    "        else:\n",
    "#             print(\"===Failure to Retreive===\", submission_id)\n",
    "            print(\"Status code is: {} and the Length of Text is: {}\".format(response.status_code, len(response.text)))\n",
    "    return data"
   ]
  },
  {
   "cell_type": "code",
   "execution_count": 3,
   "metadata": {},
   "outputs": [
    {
     "name": "stdout",
     "output_type": "stream",
     "text": [
      "Rate Limit /minute: 120\n"
     ]
    }
   ],
   "source": [
    "# Rate Limit of the API\n",
    "meta_url = requests.get('https://api.pushshift.io/meta')\n",
    "js_data = json.loads(meta_url.text)\n",
    "print(\"Rate Limit /minute:\" , js_data['server_ratelimit_per_minute'])"
   ]
  },
  {
   "cell_type": "code",
   "execution_count": null,
   "metadata": {
    "colab": {
     "base_uri": "https://localhost:8080/",
     "height": 1000
    },
    "colab_type": "code",
    "executionInfo": {
     "elapsed": 5658,
     "status": "ok",
     "timestamp": 1586465861671,
     "user": {
      "displayName": "Ravi Teja Sunkara",
      "photoUrl": "https://lh3.googleusercontent.com/a-/AOh14GhIDRxEp0jUm7-bEHjNr468mUwBCD_4vTDGzQ1n=s64",
      "userId": "04754153754492146049"
     },
     "user_tz": 240
    },
    "id": "q8YSYM7GJUDE",
    "outputId": "71615eba-1b91-44d0-cd4d-8890c5459890"
   },
   "outputs": [],
   "source": [
    "fetchdata('2wbu57')"
   ]
  },
  {
   "cell_type": "markdown",
   "metadata": {
    "colab_type": "text",
    "id": "4QyPKo-pG6Qy"
   },
   "source": [
    "### Extracting the Data"
   ]
  },
  {
   "cell_type": "code",
   "execution_count": 4,
   "metadata": {
    "colab": {},
    "colab_type": "code",
    "id": "S85ANdcpG5K5"
   },
   "outputs": [],
   "source": [
    "def extract_data(ids_list):\n",
    "    \n",
    "    # Saving the ids of successful and failed retreivals\n",
    "    failed_ids = []\n",
    "    success_ids = []\n",
    "    dict_ids = {}\n",
    "    dict_ids['failed_ids'] = failed_ids\n",
    "    dict_ids['success_ids'] = success_ids\n",
    "    # time\n",
    "    start_time = time.time()\n",
    "    \n",
    "    # Open a file for JSON output\n",
    "    js_file = open(\"posts_and_comments_new.json\", 'a') #posts_and_comments.json\n",
    "\n",
    "    for _n, _id in enumerate(ids_list):\n",
    "        try:\n",
    "            print(_n, end=\"\\r\")\n",
    "            time.sleep(1)\n",
    "            fetched_data = fetchdata(_id)\n",
    "            if (ids_list.index(_id) % 100 == 0):\n",
    "                print(\"Current Id: \", ids_list.index(_id))\n",
    "                elapsed_time = time.time() - start_time\n",
    "                print(\"Time Elapsed for the 1000 ids: \", elapsed_time)\n",
    "            success_ids.append(_id)\n",
    "        except:\n",
    "            failed_ids.append(_id)\n",
    "            print(\"Error at: \", _id, '\\n')\n",
    "            time.sleep(0.5)\n",
    "            continue\n",
    "\n",
    "        # save the returned json data to the opened file\n",
    "        print(json.dumps(fetched_data), file=js_file)\n",
    "\n",
    "\n",
    "    # Saving the ids\n",
    "    with open('traversed_ids.txt', 'wb') as f: #pickling\n",
    "        pickle.dump(dict_ids, f)\n",
    "\n",
    "    # Sleep a little before next call\n",
    "    time.sleep(.5)\n",
    "    return"
   ]
  },
  {
   "cell_type": "code",
   "execution_count": 6,
   "metadata": {
    "colab": {
     "base_uri": "https://localhost:8080/",
     "height": 1000
    },
    "colab_type": "code",
    "id": "r5Y5p8ZV30Hq",
    "outputId": "ff3bda11-95b6-459d-e348-a7761c0ce8c7"
   },
   "outputs": [],
   "source": [
    "# open('traversed_ids.txt', 'w').close() #erasing the file\n",
    "# os.remove('temp.json')\n",
    "# extract_data(failed_ids_list)\n",
    "# extract_data(temp_ids_list)"
   ]
  },
  {
   "cell_type": "code",
   "execution_count": 7,
   "metadata": {},
   "outputs": [],
   "source": [
    "with open(\"remaining_ids.txt\") as f:\n",
    "    ids = f.readlines()\n",
    "ids = [i.strip() for i in ids]"
   ]
  },
  {
   "cell_type": "code",
   "execution_count": null,
   "metadata": {},
   "outputs": [],
   "source": [
    "extract_data(ids[250000+172645:])"
   ]
  },
  {
   "cell_type": "code",
   "execution_count": null,
   "metadata": {},
   "outputs": [],
   "source": [
    "# Checking the Number of Failed and Successful ids\n",
    "with open('traversed_ids.txt', 'rb') as f:\n",
    "    items = pickle.load(f)\n",
    "print(\"Number of Successful Ids: \", len(items['success_ids']))\n",
    "print(\"Number of Failed Ids: \", len(items['failed_ids']))\n",
    "failed_ids_list = items['failed_ids']"
   ]
  },
  {
   "cell_type": "code",
   "execution_count": 21,
   "metadata": {},
   "outputs": [],
   "source": [
    "s_ids = ids[250000:]"
   ]
  },
  {
   "cell_type": "code",
   "execution_count": null,
   "metadata": {},
   "outputs": [],
   "source": [
    "len(set(s_ids))"
   ]
  },
  {
   "cell_type": "code",
   "execution_count": 5,
   "metadata": {},
   "outputs": [],
   "source": [
    "with open(\"posts_and_comments_new.json\") as f:\n",
    "    j = f.readlines()"
   ]
  },
  {
   "cell_type": "code",
   "execution_count": 8,
   "metadata": {},
   "outputs": [],
   "source": [
    "res = []\n",
    "for each in j[172645:]:\n",
    "    res.append(json.loads(each))"
   ]
  },
  {
   "cell_type": "code",
   "execution_count": 7,
   "metadata": {},
   "outputs": [
    {
     "data": {
      "text/plain": [
       "172644"
      ]
     },
     "execution_count": 7,
     "metadata": {},
     "output_type": "execute_result"
    }
   ],
   "source": [
    "len(res)"
   ]
  }
 ],
 "metadata": {
  "colab": {
   "authorship_tag": "ABX9TyNnCtGN/nRPB5giCumESHpi",
   "collapsed_sections": [],
   "name": "Collecting Data.ipynb",
   "provenance": []
  },
  "kernelspec": {
   "display_name": "Python 3",
   "language": "python",
   "name": "python3"
  },
  "language_info": {
   "codemirror_mode": {
    "name": "ipython",
    "version": 3
   },
   "file_extension": ".py",
   "mimetype": "text/x-python",
   "name": "python",
   "nbconvert_exporter": "python",
   "pygments_lexer": "ipython3",
   "version": "3.7.4"
  }
 },
 "nbformat": 4,
 "nbformat_minor": 4
}
