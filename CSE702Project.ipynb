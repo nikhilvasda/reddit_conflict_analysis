{
 "cells": [
  {
   "cell_type": "markdown",
   "metadata": {},
   "source": [
    "# CSE 702 - Project \"Community Interaction and Conflict on the Web\""
   ]
  },
  {
   "cell_type": "code",
   "execution_count": 2,
   "metadata": {},
   "outputs": [],
   "source": [
    "# imports\n",
    "import pickle\n",
    "import json\n",
    "import time\n",
    "import glob\n",
    "import praw\n",
    "import pprint\n",
    "import requests\n",
    "from collections import Counter\n",
    "from psaw import PushshiftAPI\n",
    "\n",
    "import numpy as np\n",
    "import pandas as pd\n",
    "import matplotlib.pyplot as plt"
   ]
  },
  {
   "cell_type": "code",
   "execution_count": null,
   "metadata": {},
   "outputs": [],
   "source": [
    "# ids2 = [i if i.startswith('t3_') else f't3_{i}' for i in ids]\n",
    "# for ix in range(0, len(ids2), 499):\n",
    "#     time.sleep(2)\n",
    "#     print(ix, end=\"\", flush=True)\n",
    "#     for submission in reddit.info(ids2[ix:ix+499]):\n",
    "#         res[submission.id] = []\n",
    "#         for comment in submission.comments:\n",
    "#             res[submission.id].append(comment)"
   ]
  },
  {
   "cell_type": "code",
   "execution_count": null,
   "metadata": {},
   "outputs": [],
   "source": [
    "# for n, _id in enumerate(ids[87000:]):\n",
    "#     print(n+87000, end=\"\\r\", flush=True)\n",
    "#     if n%1000==0 and n!=0:\n",
    "#         with open(\"comments_data.pkl\", \"wb\") as f:\n",
    "#             pickle.dump(res_2, f)\n",
    "#         print(f\"saved!->{n}\\n\")\n",
    "#     res_2[_id] = {\"submission\": None, \"comments\": []}\n",
    "#     tmp_gen = api.search_comments(link_id=_id, aggs=\"link_id\", sort_type=\"created_utc\", limit=5000, sort=\"asc\")\n",
    "#     try:\n",
    "#         res_2[_id][\"submission\"] = next(tmp_gen).d_\n",
    "#         res_2[_id][\"comments\"] = [comment.d_ for comment in tmp_gen]\n",
    "#     except:\n",
    "#         continue"
   ]
  },
  {
   "cell_type": "code",
   "execution_count": 36,
   "metadata": {},
   "outputs": [],
   "source": [
    "df = pd.read_csv('detailed_data/label_info.tsv', sep='\\t', header=None)"
   ]
  },
  {
   "cell_type": "code",
   "execution_count": 37,
   "metadata": {},
   "outputs": [],
   "source": [
    "d_b = df[1].to_list()\n",
    "d = df[0].to_list()"
   ]
  },
  {
   "cell_type": "code",
   "execution_count": 38,
   "metadata": {},
   "outputs": [],
   "source": [
    "data= []\n",
    "data_t = []\n",
    "data_b = []\n",
    "for n, i in enumerate(d):\n",
    "    t = eval(i)\n",
    "    data.append(t[0])\n",
    "    data.append(t[1])\n",
    "    data_t.append(t)\n",
    "    data_b.append(d_b[n])"
   ]
  },
  {
   "cell_type": "code",
   "execution_count": 48,
   "metadata": {},
   "outputs": [],
   "source": [
    "ids_set = set(ids)"
   ]
  },
  {
   "cell_type": "code",
   "execution_count": 49,
   "metadata": {},
   "outputs": [],
   "source": [
    "present = []\n",
    "bb_l = []\n",
    "for ix in range(len(data_t)):\n",
    "    if len(ids_set.intersection([data_t[ix][0], data_t[ix][1]]))==2:\n",
    "        bb_l.append(data_b[ix])\n",
    "        present.append([data_t[ix][0], data_t[ix][1]])\n",
    "present = list(zip(bb_l, present))"
   ]
  },
  {
   "cell_type": "code",
   "execution_count": 52,
   "metadata": {},
   "outputs": [
    {
     "data": {
      "text/plain": [
       "Counter({'non-burst': 95285, 'burst': 5981})"
      ]
     },
     "execution_count": 52,
     "metadata": {},
     "output_type": "execute_result"
    }
   ],
   "source": [
    "Counter(bb_l)"
   ]
  },
  {
   "cell_type": "markdown",
   "metadata": {},
   "source": [
    "# Building membership reference table"
   ]
  },
  {
   "cell_type": "code",
   "execution_count": 4,
   "metadata": {},
   "outputs": [],
   "source": [
    "# with open(\"/Users/nikhilvasudeva/Downloads/posts_and_comments_new.json\", \"r\") as f:\n",
    "#     post_comments = f.readlines()"
   ]
  },
  {
   "cell_type": "code",
   "execution_count": 8,
   "metadata": {},
   "outputs": [],
   "source": [
    "# read the posts and comments\n",
    "with open('/Users/nikhilvasudeva/Downloads/CSE702-Project/posts_and_comments_all.json', 'r') as f:\n",
    "    posts_comments = json.load(f)"
   ]
  },
  {
   "cell_type": "code",
   "execution_count": 13,
   "metadata": {},
   "outputs": [],
   "source": [
    "# with open(\"/Users/nikhilvasudeva/Downloads/CSE702-Project/posts_and_comments_all.json\", 'w') as f:\n",
    "#     json.dump(post_comments, f)"
   ]
  },
  {
   "cell_type": "code",
   "execution_count": null,
   "metadata": {},
   "outputs": [],
   "source": [
    "# SKIP\n",
    "# code to fix json error, ignore if the file is fine.\n",
    "posts_comments = []\n",
    "for each in _posts_comments:\n",
    "    try:\n",
    "        posts_comments.append(json.loads(each.strip()))\n",
    "    except:\n",
    "        print(each)\n",
    "        continue    \n",
    "s = [json.dumps(i) for i in posts_comments]\n",
    "s = list(set(s))\n",
    "s = [json.loads(i) for i in s]\n",
    "# with open('detailed_data/posts_and_comments.json', 'w') as f:\n",
    "#     json.dump(s, f)"
   ]
  },
  {
   "cell_type": "code",
   "execution_count": 21,
   "metadata": {},
   "outputs": [],
   "source": [
    "timestamps_of_all_posts = []\n",
    "scrapped_ids = []\n",
    "# r = []\n",
    "for ix, each in enumerate(posts_comments):\n",
    "    try:\n",
    "        timestamps_of_all_posts.append(each[0]['created_utc'])\n",
    "        scrapped_ids.append(each[0]['id'])\n",
    "#         r.append(each)\n",
    "    except:\n",
    "        print(ix)"
   ]
  },
  {
   "cell_type": "markdown",
   "metadata": {},
   "source": [
    "## Calculate memberships"
   ]
  },
  {
   "cell_type": "code",
   "execution_count": 23,
   "metadata": {},
   "outputs": [],
   "source": [
    "subreddit_allcomments = {}\n",
    "for each in posts_comments:\n",
    "    if each[0]['subreddit_id'] not in subreddit_allcomments:\n",
    "        subreddit_allcomments[each[0]['subreddit_id']] = []\n",
    "    subreddit_allcomments[each[0]['subreddit_id']].extend([[e['created_utc'], e['author']] for e in each[1:]])"
   ]
  },
  {
   "cell_type": "code",
   "execution_count": 24,
   "metadata": {},
   "outputs": [],
   "source": [
    "subreddit_posts = {}\n",
    "for each in posts_comments:\n",
    "    if each[0]['subreddit_id'] not in subreddit_posts:\n",
    "        subreddit_posts[each[0]['subreddit_id']] = []\n",
    "    subreddit_posts[each[0]['subreddit_id']].append(each[0])"
   ]
  },
  {
   "cell_type": "code",
   "execution_count": 25,
   "metadata": {},
   "outputs": [],
   "source": [
    "member_day_list = {}\n",
    "for subreddit_id, comments_time_authors in subreddit_allcomments.items():\n",
    "    member_day_list[subreddit_id] = {}\n",
    "    for comment_time_author in comments_time_authors:\n",
    "        floor_time = comment_time_author[0] - comment_time_author[0]%86000\n",
    "        if floor_time not in member_day_list[subreddit_id]:\n",
    "            member_day_list[subreddit_id][floor_time] = []\n",
    "        member_day_list[subreddit_id][floor_time].append(comment_time_author[1])    "
   ]
  },
  {
   "cell_type": "code",
   "execution_count": 26,
   "metadata": {},
   "outputs": [],
   "source": [
    "# post to sub\n",
    "post_sub = {}\n",
    "for each in posts_comments:\n",
    "    post_sub[each[0]['id']] = each[0]['subreddit_id']"
   ]
  },
  {
   "cell_type": "code",
   "execution_count": 27,
   "metadata": {},
   "outputs": [],
   "source": [
    "postcomment_ref = {}\n",
    "for each in posts_comments:\n",
    "    postcomment_ref[each[0]['id']] = {'post': each[0], 'comments': each[1:]}"
   ]
  },
  {
   "cell_type": "code",
   "execution_count": 28,
   "metadata": {},
   "outputs": [],
   "source": [
    "def get_all_members(utc_time, sub_id):\n",
    "    \"\"\"\n",
    "    returns unique set of all active members in sub_id for the last 30 days.\n",
    "    \"\"\"\n",
    "    members = []\n",
    "    utc_time_thresh = utc_time - (utc_time%86000)\n",
    "    for timestamp in range(utc_time_thresh-(86000*30), utc_time_thresh+(86000), 86000):\n",
    "        try:\n",
    "            members.extend(member_day_list[sub_id][timestamp])\n",
    "        except KeyError:\n",
    "            continue\n",
    "    return [mem for mem in list(set(members)) if mem!='[deleted]']"
   ]
  },
  {
   "cell_type": "code",
   "execution_count": 152,
   "metadata": {},
   "outputs": [],
   "source": [
    "def get_similar_post(utc_time, sub_id, tar_post_id, source_members_set):\n",
    "    posts = [[each['id'], utc_time-each['created_utc']] for each in subreddit_posts[sub_id] if utc_time-each['created_utc']>=0 and each['id']!=tar_post_id]\n",
    "    # TODO: Is a threshold required for calculating closest post for timestamp?\n",
    "    posts = sorted(posts, key=lambda x: x[1])\n",
    "    before_crosspost_count_target = len([each for each in postcomment_ref[tar_post_id]['comments'] if each['created_utc']<utc_time])\n",
    "    after_crosspost_count_target = len([each for each in postcomment_ref[tar_post_id]['comments'] if each['created_utc']>utc_time and each['created_utc']<(utc_time+(3600*12))])\n",
    "\n",
    "    tar_match = None\n",
    "    tmp_after = 0\n",
    "    for p in posts:\n",
    "        tmp = len([each for each in postcomment_ref[p[0]]['comments'] if each['created_utc']<utc_time])\n",
    "        if abs(before_crosspost_count_target - tmp) < 5:\n",
    "            tmp_after = len([each for each in postcomment_ref[p[0]]['comments'] if each['created_utc']>utc_time and each['created_utc']<(utc_time+(3600*12))])\n",
    "            # calculate source user comments\n",
    "            tmp_smcip = [each['author'] for each in postcomment_ref[p[0]]['comments'] if each['created_utc']>utc_time and each['created_utc']<(utc_time+(3600*12))]\n",
    "            tmp_smcit = [each['author'] for each in postcomment_ref[tar_post_id]['comments'] if each['created_utc']>utc_time and each['created_utc']<(utc_time+(3600*12))]\n",
    "            source_mem_comments_in_p = len([each for each in tmp_smcip if each in source_members_set])\n",
    "            source_mem_comments_in_tar = len([each for each in tmp_smcit if each in source_members_set])\n",
    "#             matched post, tmp-lengthbefore, tmp_after - after crosslink, and same for target\n",
    "            tar_match = [p[0], sub_id, tmp, tar_post_id, tmp_after, before_crosspost_count_target, after_crosspost_count_target, source_mem_comments_in_p, source_mem_comments_in_tar] # store the post id and the length of comments upto utc_time\n",
    "            break\n",
    "    if not tar_match:\n",
    "        raise Exception(f\"no match found for target {tar_post_id}\")\n",
    "        # TODO: return the results after 12 hours as well.\n",
    "    return tar_match"
   ]
  },
  {
   "cell_type": "code",
   "execution_count": null,
   "metadata": {},
   "outputs": [],
   "source": [
    "burst = [each for each in present if each[0]==\"burst\"]"
   ]
  },
  {
   "cell_type": "code",
   "execution_count": 153,
   "metadata": {},
   "outputs": [],
   "source": [
    "before_after_results = []\n",
    "counter = 0\n",
    "for each in burst: \n",
    "    s, t = each[1][0], each[1][1]\n",
    "    source_sub_id = post_sub[s]\n",
    "    target_sub_id = post_sub[t]\n",
    "    crosspostatsrc_uic = postcomment_ref[s]['post']['created_utc']\n",
    "    source_members = get_all_members(crosspostatsrc_uic, source_sub_id)\n",
    "    target_comment_authors = [c['author'] for c in postcomment_ref[t]['comments']] \n",
    "    try:\n",
    "        before_after_results.append(get_similar_post(postcomment_ref[s]['post']['created_utc'], target_sub_id, t, set(source_members)))\n",
    "        counter+=1\n",
    "    except Exception as e:\n",
    "        continue"
   ]
  },
  {
   "cell_type": "code",
   "execution_count": 158,
   "metadata": {},
   "outputs": [],
   "source": [
    "fig_3_data = []\n",
    "for each in before_after_results:\n",
    "    if each[-2]>0:\n",
    "        fig_3_data.append(each[-2:])"
   ]
  },
  {
   "cell_type": "code",
   "execution_count": 159,
   "metadata": {},
   "outputs": [],
   "source": [
    "before = 0\n",
    "after = 0\n",
    "for each in fig_3_data:\n",
    "    before += each[0]\n",
    "    after+= each[1]"
   ]
  },
  {
   "cell_type": "code",
   "execution_count": 160,
   "metadata": {},
   "outputs": [
    {
     "data": {
      "text/plain": [
       "(2.607142857142857, 4.767857142857143)"
      ]
     },
     "execution_count": 160,
     "metadata": {},
     "output_type": "execute_result"
    }
   ],
   "source": [
    "before/len(fig_3_data), after/len(fig_3_data)"
   ]
  },
  {
   "cell_type": "code",
   "execution_count": 162,
   "metadata": {},
   "outputs": [
    {
     "data": {
      "text/plain": [
       "0.8287671232876713"
      ]
     },
     "execution_count": 162,
     "metadata": {},
     "output_type": "execute_result"
    }
   ],
   "source": [
    "2.160714285714286/2.607142857142857"
   ]
  },
  {
   "cell_type": "code",
   "execution_count": 163,
   "metadata": {},
   "outputs": [
    {
     "data": {
      "text/plain": [
       "56"
      ]
     },
     "execution_count": 163,
     "metadata": {},
     "output_type": "execute_result"
    }
   ],
   "source": [
    "len(fig_3_data)"
   ]
  },
  {
   "cell_type": "code",
   "execution_count": 164,
   "metadata": {},
   "outputs": [
    {
     "data": {
      "text/plain": [
       "5981"
      ]
     },
     "execution_count": 164,
     "metadata": {},
     "output_type": "execute_result"
    }
   ],
   "source": [
    "len(burst)"
   ]
  },
  {
   "cell_type": "code",
   "execution_count": 305,
   "metadata": {},
   "outputs": [
    {
     "data": {
      "image/png": "[encoded data removed]",
      "text/plain": [
       "<Figure size 432x288 with 1 Axes>"
      ]
     },
     "metadata": {
      "needs_background": "light"
     },
     "output_type": "display_data"
    }
   ],
   "source": [
    "frm = plt.gca()\n",
    "frm.get_xaxis().set_ticks([])\n",
    "plt.plot([0, 2.607])\n",
    "plt.plot([0, 4.767])\n",
    "plt.ylabel('Average number of comments by source members')\n",
    "plt.savefig(\"fig3\")"
   ]
  },
  {
   "cell_type": "code",
   "execution_count": 189,
   "metadata": {},
   "outputs": [],
   "source": [
    "all_burst_causers = []\n",
    "for each in burst:\n",
    "    all_burst_causers.append(post_sub[each[1][0]])"
   ]
  },
  {
   "cell_type": "code",
   "execution_count": 217,
   "metadata": {},
   "outputs": [],
   "source": [
    "total = 0\n",
    "unique = 0\n",
    "fig4_data = []\n",
    "for s, c in Counter(all_burst_causers).most_common():\n",
    "    total+=c\n",
    "    unique+=1\n",
    "    fig4_data.append([(total/len(all_burst_causers))*100, unique/len(present)])"
   ]
  },
  {
   "cell_type": "code",
   "execution_count": 309,
   "metadata": {},
   "outputs": [],
   "source": [
    "x, y = [], []\n",
    "for each in fig4_data:\n",
    "    x.append(each[0])\n",
    "    y.append(each[1]*100)"
   ]
  },
  {
   "cell_type": "code",
   "execution_count": 310,
   "metadata": {},
   "outputs": [
    {
     "data": {
      "image/png": "[encoded data removed]",
      "text/plain": [
       "<Figure size 432x288 with 1 Axes>"
      ]
     },
     "metadata": {
      "needs_background": "light"
     },
     "output_type": "display_data"
    }
   ],
   "source": [
    "plt.plot(y, x)\n",
    "plt.xlabel(\"Percentage of data\")\n",
    "plt.ylabel(\"Percentage of negative mobilizations\")\n",
    "plt.savefig(\"fig4\")\n",
    "plt.show()\n"
   ]
  },
  {
   "cell_type": "code",
   "execution_count": null,
   "metadata": {},
   "outputs": [],
   "source": [
    "# 0.139 - responsible for most of the attacks"
   ]
  },
  {
   "cell_type": "code",
   "execution_count": 276,
   "metadata": {},
   "outputs": [],
   "source": [
    "# calculate activity of the poster in relation to other members of the subreddit.\n",
    "res = []\n",
    "for each in burst:\n",
    "    s = each[1][0]\n",
    "    source_sub_id = post_sub[s]\n",
    "    crosspostatsrc_uic = postcomment_ref[s]['post']['created_utc']\n",
    "    post_author = postcomment_ref[s]['post']['author']\n",
    "    source_members = get_all_members(crosspostatsrc_uic, source_sub_id)\n",
    "    m = [each[1] for each in subreddit_allcomments[source_sub_id] if each[1]!=\"[deleted]\" and each[0]<crosspostatsrc_uic]\n",
    "    if not m:\n",
    "        continue\n",
    "    c = Counter(m)\n",
    "    cm = c.most_common()\n",
    "    s = 0\n",
    "    for each in cm:\n",
    "        s+=each[1]\n",
    "    avg = s/len(cm)\n",
    "    author_activity = c.get(post_author, 0)\n",
    "    res.append([author_activity,avg])"
   ]
  },
  {
   "cell_type": "code",
   "execution_count": 275,
   "metadata": {},
   "outputs": [
    {
     "data": {
      "text/plain": [
       "16.79341059872"
      ]
     },
     "execution_count": 275,
     "metadata": {},
     "output_type": "execute_result"
    }
   ],
   "source": [
    "sum(res)/len(res)"
   ]
  },
  {
   "cell_type": "code",
   "execution_count": 268,
   "metadata": {},
   "outputs": [],
   "source": [
    "res = [r/100 for r in res]"
   ]
  },
  {
   "cell_type": "code",
   "execution_count": 283,
   "metadata": {},
   "outputs": [],
   "source": [
    "avg, pst, per = 0, 0, 0\n",
    "for each in res:\n",
    "    avg+=each[1]\n",
    "    pst+=each[0]\n",
    "    per+=(each[0]-each[1])/each[1]"
   ]
  },
  {
   "cell_type": "code",
   "execution_count": 278,
   "metadata": {},
   "outputs": [
    {
     "data": {
      "text/plain": [
       "(3.729177456410164, 20.522588055130168)"
      ]
     },
     "execution_count": 278,
     "metadata": {},
     "output_type": "execute_result"
    }
   ],
   "source": [
    "avg/len(res), pst/len(res)"
   ]
  },
  {
   "cell_type": "code",
   "execution_count": 284,
   "metadata": {},
   "outputs": [
    {
     "data": {
      "text/plain": [
       "3.076083758040087"
      ]
     },
     "execution_count": 284,
     "metadata": {},
     "output_type": "execute_result"
    }
   ],
   "source": [
    "per/len(res)"
   ]
  },
  {
   "cell_type": "code",
   "execution_count": 304,
   "metadata": {},
   "outputs": [
    {
     "data": {
      "image/png": "[encoded data removed]",
      "text/plain": [
       "<Figure size 432x288 with 1 Axes>"
      ]
     },
     "metadata": {
      "needs_background": "light"
     },
     "output_type": "display_data"
    }
   ],
   "source": [
    "frame1 = plt.gca()\n",
    "plt.bar(1, 3)\n",
    "plt.bar(2, 20)\n",
    "frame1.get_xaxis().set_ticks([])\n",
    "plt.xlabel(\"Avg User                                       Poster\")\n",
    "plt.ylabel(\"No. of Comments\")\n",
    "plt.savefig(\"fig5\")\n",
    "plt.show()\n"
   ]
  },
  {
   "cell_type": "code",
   "execution_count": 301,
   "metadata": {},
   "outputs": [
    {
     "data": {
      "text/plain": [
       "225331"
      ]
     },
     "execution_count": 301,
     "metadata": {},
     "output_type": "execute_result"
    }
   ],
   "source": [
    "len(post_comments)"
   ]
  },
  {
   "cell_type": "code",
   "execution_count": null,
   "metadata": {},
   "outputs": [],
   "source": []
  }
 ],
 "metadata": {
  "kernelspec": {
   "display_name": "Python 3",
   "language": "python",
   "name": "python3"
  },
  "language_info": {
   "codemirror_mode": {
    "name": "ipython",
    "version": 3
   },
   "file_extension": ".py",
   "mimetype": "text/x-python",
   "name": "python",
   "nbconvert_exporter": "python",
   "pygments_lexer": "ipython3",
   "version": "3.7.4"
  }
 },
 "nbformat": 4,
 "nbformat_minor": 4
}
